{
 "cells": [
  {
   "cell_type": "code",
   "execution_count": 1,
   "id": "9f72e9f3-464a-46de-ba66-8289e962e78e",
   "metadata": {},
   "outputs": [],
   "source": [
    "import os\n",
    "import csv\n",
    "from collections import Counter, defaultdict"
   ]
  },
  {
   "cell_type": "code",
   "execution_count": 35,
   "id": "4ce85d59-ba59-4b1a-bd95-38a52c39b710",
   "metadata": {},
   "outputs": [],
   "source": [
    "# Dossier de travail\n",
    "dossier_adjudication=\"Adjudication\"\n",
    "nombre_max_tokens=6500"
   ]
  },
  {
   "cell_type": "code",
   "execution_count": 37,
   "id": "28b84f93-63ff-411d-b230-860c6fc85839",
   "metadata": {},
   "outputs": [],
   "source": [
    "# Fonction pour lire un fichier CSV et récupérer les données\n",
    "def lire_fichier_csv(chemin_fichier, max_tokens):\n",
    "    donnees = []\n",
    "    try:\n",
    "        with open(chemin_fichier, 'r', newline='', encoding='utf-8') as fichier:\n",
    "            lecteur_csv = csv.DictReader(fichier, delimiter=';', quotechar='\"')\n",
    "            for i, ligne in enumerate(lecteur_csv):\n",
    "                if i >= max_tokens:\n",
    "                    break\n",
    "                donnees.append(ligne)\n",
    "    except Exception as e:\n",
    "        print(f\"Erreur lors de la lecture de {chemin_fichier}: {e}\")\n",
    "    return donnees\n",
    "\n",
    "# Fonction pour déterminer l'annotation majoritaire\n",
    "def determiner_majorite(annotations, label_spacy):\n",
    "    annotations_filtrees = [a for a in annotations if a and a != \"NA\"]  # Exclure les NA\n",
    "    compteur = Counter(annotations_filtrees)\n",
    "    \n",
    "    if not annotations_filtrees:\n",
    "        return \"\" if annotations.count(\"NA\") >= 3 else label_spacy\n",
    "    \n",
    "    majoritaire, nombre = compteur.most_common(1)[0]\n",
    "    \n",
    "    # Appliquer la règle de majorité \n",
    "    if nombre >= 3:\n",
    "        return majoritaire\n",
    "    elif label_spacy in compteur and compteur[label_spacy] >= nombre:\n",
    "        return label_spacy\n",
    "    \n",
    "    return \"\"\n",
    "\n",
    "# Fonction pour déterminer Quaero_Maj si Label_Maj == \"LOC\"\n",
    "def determiner_quaero_majoritaire(quaeros):\n",
    "    quaero_filtre = [q for q in quaeros if q and q != \"LOC\"]\n",
    "    compteur = Counter(quaero_filtre)\n",
    "    \n",
    "    if compteur:\n",
    "        majoritaires = compteur.most_common()\n",
    "        max_occurrence = majoritaires[0][1]\n",
    "        candidats = [q for q, occ in majoritaires if occ == max_occurrence]\n",
    "        return candidats[0]  # Prendre l'un des majoritaires en cas d'égalité\n",
    "    return \"\""
   ]
  },
  {
   "cell_type": "code",
   "execution_count": 39,
   "id": "7bbd6572-a265-49f3-81e4-c53863cfbc15",
   "metadata": {},
   "outputs": [
    {
     "name": "stdout",
     "output_type": "stream",
     "text": [
      "\n",
      "Traitement du fichier : adjudication_CARRAUD_petite-Jeanne_Kraken-base_spaCy3.7.2-lg 1.csv\n",
      "Fichier consolidé enregistré sous : Adjudication\\adjudication_CARRAUD_petite-Jeanne_Kraken-base_spaCy3.7.2-lg 1_consolide.csv\n",
      "\n",
      "Traitement du fichier : adjudication_CARRAUD_petite-Jeanne_REF_spaCy3.7.2-lg.csv\n",
      "Fichier consolidé enregistré sous : Adjudication\\adjudication_CARRAUD_petite-Jeanne_REF_spaCy3.7.2-lg_consolide.csv\n",
      "\n",
      "Traitement du fichier : adjudication_CARRAUD_petite-Jeanne_TesseractFra-PNG_spaCy3.7.2-lg.csv\n",
      "Fichier consolidé enregistré sous : Adjudication\\adjudication_CARRAUD_petite-Jeanne_TesseractFra-PNG_spaCy3.7.2-lg_consolide.csv\n",
      "\n",
      "Traitement du fichier : adjudication_DAUDET_petit-chose_Kraken-base_spaCy3.7.2-lg.csv\n",
      "Fichier consolidé enregistré sous : Adjudication\\adjudication_DAUDET_petit-chose_Kraken-base_spaCy3.7.2-lg_consolide.csv\n",
      "\n",
      "Traitement du fichier : adjudication_DAUDET_petit-chose_REF_spaCy3.7.2-lg.csv\n",
      "Fichier consolidé enregistré sous : Adjudication\\adjudication_DAUDET_petit-chose_REF_spaCy3.7.2-lg_consolide.csv\n",
      "\n",
      "Traitement du fichier : adjudication_DAUDET_petit-chose_TesseractFra-PNG_spaCy3.7.2-lg.csv\n",
      "Fichier consolidé enregistré sous : Adjudication\\adjudication_DAUDET_petit-chose_TesseractFra-PNG_spaCy3.7.2-lg_consolide.csv\n"
     ]
    }
   ],
   "source": [
    "# Traitement des fichiers et consolidation\n",
    "for fichier in os.listdir(dossier_adjudication):\n",
    "    chemin_fichier = os.path.join(dossier_adjudication, fichier)\n",
    "    print(f\"\\nTraitement du fichier : {fichier}\")\n",
    "    \n",
    "    donnees = lire_fichier_csv(chemin_fichier, nombre_max_tokens)\n",
    "    if not donnees:\n",
    "        continue\n",
    "    \n",
    "    # Extraction des colonnes des annotateurs\n",
    "    annotateurs_correction = [col for col in donnees[0] if \"_Correction\" in col]\n",
    "    annotateurs_quaero = [col for col in donnees[0] if \"_Quaero\" in col]\n",
    "    \n",
    "    donnees_consolidees = []\n",
    "    \n",
    "    # Traitement des tokens\n",
    "    for ligne in donnees:\n",
    "        token = ligne['Token']\n",
    "        label_spacy = ligne['Label']\n",
    "        \n",
    "        corrections = [ligne[annotateur] for annotateur in annotateurs_correction]\n",
    "        quaeros = [ligne[annotateur] for annotateur in annotateurs_quaero]\n",
    "        \n",
    "        label_maj = determiner_majorite(corrections, label_spacy)\n",
    "        \n",
    "        # Traitement de Quaero_Maj si Label_Maj est LOC\n",
    "        quaero_maj = \"\"\n",
    "        if label_maj == \"LOC\":\n",
    "            quaero_maj = determiner_quaero_majoritaire(quaeros)\n",
    "        \n",
    "        donnees_consolidees.append({\n",
    "            \"Token\": token,\n",
    "            \"Label_Maj\": label_maj,\n",
    "            \"Quaero_Maj\": quaero_maj\n",
    "        })\n",
    "    \n",
    "    # Sauvegarde du fichier consolidé\n",
    "    chemin_sortie = os.path.join(dossier_adjudication, f\"{fichier.replace('.csv', '_consolide.csv')}\")\n",
    "    with open(chemin_sortie, 'w', newline='', encoding='utf-8') as fichier_sortie:\n",
    "        champs = [\"Token\", \"Label_Maj\", \"Quaero_Maj\"]\n",
    "        ecrivain_csv = csv.DictWriter(fichier_sortie, fieldnames=champs, delimiter=';', quotechar='\"')\n",
    "        ecrivain_csv.writeheader()\n",
    "        ecrivain_csv.writerows(donnees_consolidees)\n",
    "    \n",
    "    print(f\"Fichier consolidé enregistré sous : {chemin_sortie}\")\n"
   ]
  },
  {
   "cell_type": "code",
   "execution_count": null,
   "id": "2a3ed8e1-deaa-43ee-9bd0-ebc5a1508806",
   "metadata": {},
   "outputs": [],
   "source": []
  }
 ],
 "metadata": {
  "kernelspec": {
   "display_name": "Python [conda env:base] *",
   "language": "python",
   "name": "conda-base-py"
  },
  "language_info": {
   "codemirror_mode": {
    "name": "ipython",
    "version": 3
   },
   "file_extension": ".py",
   "mimetype": "text/x-python",
   "name": "python",
   "nbconvert_exporter": "python",
   "pygments_lexer": "ipython3",
   "version": "3.12.7"
  }
 },
 "nbformat": 4,
 "nbformat_minor": 5
}
